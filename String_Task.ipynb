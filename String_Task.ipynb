{
 "cells": [
  {
   "cell_type": "code",
   "execution_count": 27,
   "id": "f1291c8f-b173-4694-b5e2-85e6abcc5afa",
   "metadata": {},
   "outputs": [
    {
     "name": "stdout",
     "output_type": "stream",
     "text": [
      "How many characters are in the string 'Python3': 7\n"
     ]
    }
   ],
   "source": [
    "#1\n",
    "a=\"Python3\"\n",
    "b=len(a)\n",
    "print(\"How many characters are in the string 'Python3':\",b)"
   ]
  },
  {
   "cell_type": "code",
   "execution_count": 28,
   "id": "10f74936-f01c-44c2-a21b-9b0f47ea910b",
   "metadata": {},
   "outputs": [
    {
     "name": "stdout",
     "output_type": "stream",
     "text": [
      "len(text) is : 13\n"
     ]
    }
   ],
   "source": [
    "#2\n",
    "text=\" Hello World \"\n",
    "print(\"len(text) is :\",len(text))"
   ]
  },
  {
   "cell_type": "code",
   "execution_count": 29,
   "id": "0cd8a6d5-d4fa-489a-8ed3-cb1a529cb29e",
   "metadata": {},
   "outputs": [
    {
     "name": "stdout",
     "output_type": "stream",
     "text": [
      "count of space character is : 1\n"
     ]
    }
   ],
   "source": [
    "#3\n",
    "print(\"count of space character is :\",x.count(\" \"))"
   ]
  },
  {
   "cell_type": "code",
   "execution_count": 30,
   "id": "442141c3-59bf-4073-ba69-15c2b975eacf",
   "metadata": {},
   "outputs": [
    {
     "name": "stdout",
     "output_type": "stream",
     "text": [
      "To convert 'Good Morning' to uppercase:  GOOD MORNING\n"
     ]
    }
   ],
   "source": [
    "#4\n",
    "x=\"Good Morning\"\n",
    "print(\"To convert 'Good Morning' to uppercase: \",x.upper())"
   ]
  },
  {
   "cell_type": "code",
   "execution_count": 15,
   "id": "e61eb458-9b62-40f8-8628-506290967a22",
   "metadata": {},
   "outputs": [
    {
     "data": {
      "text/plain": [
       "'hello'"
      ]
     },
     "execution_count": 15,
     "metadata": {},
     "output_type": "execute_result"
    }
   ],
   "source": [
    "#5\n",
    "x=\"HELLO\"\n",
    "x.lower()"
   ]
  },
  {
   "cell_type": "code",
   "execution_count": 17,
   "id": "8d301128-6691-4a08-ac85-cdca00934012",
   "metadata": {},
   "outputs": [
    {
     "name": "stdout",
     "output_type": "stream",
     "text": [
      "what will msg.upper() :  PYTHON\n",
      "what will msg.lower() :  python\n"
     ]
    }
   ],
   "source": [
    "#6\n",
    "msg = \"PyThOn\"\n",
    "print(\"what will msg.upper() : \",msg.upper())\n",
    "print(\"what will msg.lower() : \",msg.lower())"
   ]
  },
  {
   "cell_type": "code",
   "execution_count": 18,
   "id": "aec0897e-ba36-41ce-9cc0-3c026e588d8c",
   "metadata": {},
   "outputs": [
    {
     "data": {
      "text/plain": [
       "'123ABC!'"
      ]
     },
     "execution_count": 18,
     "metadata": {},
     "output_type": "execute_result"
    }
   ],
   "source": [
    "#7\n",
    "x=\"123abc!\"\n",
    "x.upper()"
   ]
  },
  {
   "cell_type": "code",
   "execution_count": 24,
   "id": "8f0ae91f-5ae1-4a67-ac27-0b2799c8f899",
   "metadata": {},
   "outputs": [
    {
     "name": "stdout",
     "output_type": "stream",
     "text": [
      "What does 'hello world'.capitalize() :  Hello world\n"
     ]
    }
   ],
   "source": [
    "#8\n",
    "x=\"hello world\"\n",
    "print(\"What does 'hello world'.capitalize() : \",x.capitalize())"
   ]
  },
  {
   "cell_type": "code",
   "execution_count": 21,
   "id": "2d0357a4-bf5f-47aa-8b14-cee467d5341b",
   "metadata": {},
   "outputs": [
    {
     "name": "stdout",
     "output_type": "stream",
     "text": [
      "Convert 'hello world from python; to title case : Hello World From Python\n"
     ]
    }
   ],
   "source": [
    "#9\n",
    "x= \"hello world from python\"\n",
    "print(\"Convert 'hello world from python; to title case :\",x.title())"
   ]
  },
  {
   "cell_type": "code",
   "execution_count": 23,
   "id": "e79fd2a0-0a31-4e78-8508-44af366a58c2",
   "metadata": {},
   "outputs": [
    {
     "name": "stdout",
     "output_type": "stream",
     "text": [
      "Will \"JAVA\".capitalize() return \"Java\" or 'JAVA\"? :  Java\n"
     ]
    }
   ],
   "source": [
    "#10\n",
    "x=\"JAVA\"\n",
    "print('''Will \"JAVA\".capitalize() return \"Java\" or 'JAVA\"? : ''',x.capitalize())"
   ]
  },
  {
   "cell_type": "code",
   "execution_count": 31,
   "id": "f9596b2c-0cea-46d2-a4e7-8d8b1d309189",
   "metadata": {},
   "outputs": [
    {
     "name": "stdout",
     "output_type": "stream",
     "text": [
      "Hello World\n",
      "Hello world\n"
     ]
    }
   ],
   "source": [
    "#11\n",
    "print(\"hello world\".title()) #Word starting  with Capital\n",
    "print(\"hello world\".capitalize()) # Only starting letter captial"
   ]
  },
  {
   "cell_type": "code",
   "execution_count": 33,
   "id": "d7bc0f5c-3b31-4a9c-bc48-06d762ddd6da",
   "metadata": {},
   "outputs": [
    {
     "name": "stdout",
     "output_type": "stream",
     "text": [
      "Count how many 'o' are in \"hello, world!\" :  0\n"
     ]
    }
   ],
   "source": [
    "#12\n",
    "x=\"hello, world!\"\n",
    "print('''Count how many 'o' are in \"hello, world!\" : ''',x.count(\"0\"))"
   ]
  },
  {
   "cell_type": "code",
   "execution_count": 35,
   "id": "3d233646-0aca-4aa4-b18c-c8194e3ba4a2",
   "metadata": {},
   "outputs": [
    {
     "data": {
      "text/plain": [
       "1"
      ]
     },
     "execution_count": 35,
     "metadata": {},
     "output_type": "execute_result"
    }
   ],
   "source": [
    "#13\n",
    "quote = \"Practice makes perfect\"\n",
    "quote.count(\"p\")\n"
   ]
  },
  {
   "cell_type": "code",
   "execution_count": 36,
   "id": "4e0e2eda-4377-4cb4-a504-572dd9caa569",
   "metadata": {},
   "outputs": [
    {
     "data": {
      "text/plain": [
       "4"
      ]
     },
     "execution_count": 36,
     "metadata": {},
     "output_type": "execute_result"
    }
   ],
   "source": [
    "#14\n",
    "x=\"Mississippi\"\n",
    "x.count('s')\n"
   ]
  },
  {
   "cell_type": "code",
   "execution_count": 37,
   "id": "19c9a7f7-65a6-4539-9174-501fd99ac076",
   "metadata": {},
   "outputs": [
    {
     "data": {
      "text/plain": [
       "2"
      ]
     },
     "execution_count": 37,
     "metadata": {},
     "output_type": "execute_result"
    }
   ],
   "source": [
    "#15\n",
    "x=\"banana\"\n",
    "x.count(\"na\")\n"
   ]
  },
  {
   "cell_type": "code",
   "execution_count": 38,
   "id": "e8485ab5-0929-4788-8b90-c695843e1b31",
   "metadata": {},
   "outputs": [
    {
     "data": {
      "text/plain": [
       "0"
      ]
     },
     "execution_count": 38,
     "metadata": {},
     "output_type": "execute_result"
    }
   ],
   "source": [
    "#16\n",
    "x= \"elephant\"\n",
    "x.find(\"e\")"
   ]
  },
  {
   "cell_type": "code",
   "execution_count": 39,
   "id": "e09bb1a4-4302-4c7e-a236-767b95a236b3",
   "metadata": {},
   "outputs": [
    {
     "data": {
      "text/plain": [
       "2"
      ]
     },
     "execution_count": 39,
     "metadata": {},
     "output_type": "execute_result"
    }
   ],
   "source": [
    "#17\n",
    "x=\"puzzle\"\n",
    "x.find(\"z\")"
   ]
  },
  {
   "cell_type": "code",
   "execution_count": 40,
   "id": "fcbf3576-9468-41f1-938c-af8e8126613e",
   "metadata": {},
   "outputs": [
    {
     "data": {
      "text/plain": [
       "-1"
      ]
     },
     "execution_count": 40,
     "metadata": {},
     "output_type": "execute_result"
    }
   ],
   "source": [
    "#18\n",
    "x=\"srinivas konka\"\n",
    "x.find(\"x\")"
   ]
  },
  {
   "cell_type": "code",
   "execution_count": 41,
   "id": "e7658b24-3c82-41da-9f30-fa56deb67133",
   "metadata": {},
   "outputs": [
    {
     "name": "stdout",
     "output_type": "stream",
     "text": [
      " find() give an return value -1 and coming to INDEX() it gives an \"value error\" \n"
     ]
    }
   ],
   "source": [
    "#19\n",
    "#How does index() behave differently from find() when the item isn’t found?\n",
    "print(''' find() give an return value -1 and coming to INDEX() it gives an \"value error\" ''')"
   ]
  },
  {
   "cell_type": "code",
   "execution_count": 42,
   "id": "925ec1fc-685c-4737-bcd8-2d61d4dda3b7",
   "metadata": {},
   "outputs": [
    {
     "name": "stdout",
     "output_type": "stream",
     "text": [
      "1\n"
     ]
    }
   ],
   "source": [
    "#20\n",
    "print(\"hello\".index(\"e\"))\n"
   ]
  },
  {
   "cell_type": "code",
   "execution_count": 44,
   "id": "eea2bb6e-7c9d-4efd-96d9-f77f2ca77aa1",
   "metadata": {},
   "outputs": [
    {
     "data": {
      "text/plain": [
       "'HelloWorld'"
      ]
     },
     "execution_count": 44,
     "metadata": {},
     "output_type": "execute_result"
    }
   ],
   "source": [
    "#21\n",
    "#Combine \"Hello\" and \"World\" into \"HelloWorld\".\n",
    "x=\"Hello\"+\"World\"\n",
    "x"
   ]
  },
  {
   "cell_type": "code",
   "execution_count": 46,
   "id": "ce253ea6-9535-4cfa-b590-853958391ff7",
   "metadata": {},
   "outputs": [
    {
     "data": {
      "text/plain": [
       "'Hi, Alice'"
      ]
     },
     "execution_count": 46,
     "metadata": {},
     "output_type": "execute_result"
    }
   ],
   "source": [
    "#22\n",
    "#Use + to add \"Hi, \" and \"Alice\" together\n",
    "x= \"Hi, \"+\"Alice\"\n",
    "x"
   ]
  },
  {
   "cell_type": "code",
   "execution_count": 48,
   "id": "d6630fe2-6e97-48e1-8eb8-ab36994283e0",
   "metadata": {},
   "outputs": [
    {
     "name": "stdout",
     "output_type": "stream",
     "text": [
      "Age: 25\n"
     ]
    }
   ],
   "source": [
    "#23\n",
    "print( \"Age: \" + str(25))"
   ]
  },
  {
   "cell_type": "code",
   "execution_count": 52,
   "id": "471e093c-590b-4b2e-9bb4-8c5f498fb50f",
   "metadata": {},
   "outputs": [
    {
     "data": {
      "text/plain": [
       "'abc123'"
      ]
     },
     "execution_count": 52,
     "metadata": {},
     "output_type": "execute_result"
    }
   ],
   "source": [
    "#24\n",
    "x1=\"abc\"\n",
    "x2=\"123\"\n",
    "x=x1+x2\n",
    "x"
   ]
  },
  {
   "cell_type": "code",
   "execution_count": 55,
   "id": "4272a711-8453-4721-be61-3429b91ea33a",
   "metadata": {},
   "outputs": [
    {
     "data": {
      "text/plain": [
       "'The cat barks.'"
      ]
     },
     "execution_count": 55,
     "metadata": {},
     "output_type": "execute_result"
    }
   ],
   "source": [
    "#25\n",
    "x=\"The dog barks.\"\n",
    "x.replace(\"dog\",\"cat\")\n"
   ]
  },
  {
   "cell_type": "code",
   "execution_count": 56,
   "id": "890c1105-1927-4cca-b638-5b95096cb570",
   "metadata": {},
   "outputs": [
    {
     "data": {
      "text/plain": [
       "'sun sun go away'"
      ]
     },
     "execution_count": 56,
     "metadata": {},
     "output_type": "execute_result"
    }
   ],
   "source": [
    "#26\n",
    "msg = \"rain rain go away\"\n",
    "msg.replace ('rain','sun')"
   ]
  },
  {
   "cell_type": "code",
   "execution_count": 57,
   "id": "bc6e86ed-9205-4b23-94eb-0bd459047c2e",
   "metadata": {},
   "outputs": [
    {
     "data": {
      "text/plain": [
       "'b@n@n@'"
      ]
     },
     "execution_count": 57,
     "metadata": {},
     "output_type": "execute_result"
    }
   ],
   "source": [
    "#27\n",
    "x=\"banana\"\n",
    "x.replace('a','@')"
   ]
  },
  {
   "cell_type": "code",
   "execution_count": 62,
   "id": "eda54ace-b115-461c-bed1-e988b113fd36",
   "metadata": {},
   "outputs": [
    {
     "name": "stdout",
     "output_type": "stream",
     "text": [
      "join-the-party\n"
     ]
    }
   ],
   "source": [
    "#28\n",
    "x=\"join the party\"\n",
    "print(x.replace(\" \",\"-\"))"
   ]
  },
  {
   "cell_type": "code",
   "execution_count": 64,
   "id": "7822871a-9833-454f-a128-81ee24728bed",
   "metadata": {},
   "outputs": [
    {
     "data": {
      "text/plain": [
       "'hello'"
      ]
     },
     "execution_count": 64,
     "metadata": {},
     "output_type": "execute_result"
    }
   ],
   "source": [
    "#29\n",
    "x=\" hello \".strip() #remove spaces front and back\n",
    "x"
   ]
  },
  {
   "cell_type": "code",
   "execution_count": 68,
   "id": "cf989ed3-7021-4b34-b9f2-2576e0bdabb1",
   "metadata": {},
   "outputs": [
    {
     "name": "stdout",
     "output_type": "stream",
     "text": [
      "Welcome\n"
     ]
    }
   ],
   "source": [
    "#30\n",
    "x=\"###Welcome###\"\n",
    "print(x.strip(\"#\"))\n"
   ]
  },
  {
   "cell_type": "code",
   "execution_count": 72,
   "id": "23b251f2-c023-4670-ba35-9a3042e00f81",
   "metadata": {},
   "outputs": [
    {
     "name": "stdout",
     "output_type": "stream",
     "text": [
      "message\n",
      "doesn't remove any character it only removes front and end\n"
     ]
    }
   ],
   "source": [
    "#31\n",
    "#example \n",
    "x=\"message\"\n",
    "print(x.strip(\"s\")) \n",
    "print(\"No,doesn't remove any character it only removes front and end\")"
   ]
  },
  {
   "cell_type": "code",
   "execution_count": 75,
   "id": "e5755567-57de-42a7-8f80-80a0b382adf1",
   "metadata": {},
   "outputs": [
    {
     "name": "stdout",
     "output_type": "stream",
     "text": [
      "Hello\n"
     ]
    }
   ],
   "source": [
    "#32\n",
    "x=\"Hello \"\n",
    "print(x.strip(\" \"))"
   ]
  },
  {
   "cell_type": "code",
   "execution_count": 77,
   "id": "0bd40004-f378-439e-a789-ce620384748a",
   "metadata": {},
   "outputs": [
    {
     "name": "stdout",
     "output_type": "stream",
     "text": [
      "hello, Alice!\n"
     ]
    }
   ],
   "source": [
    "#33\n",
    "x=\"Alice\"\n",
    "print(\"hello, {}!\".format(x))"
   ]
  },
  {
   "cell_type": "code",
   "execution_count": 78,
   "id": "01345c9a-b2ba-4b04-a6b7-40d0490e23b9",
   "metadata": {},
   "outputs": [
    {
     "name": "stdout",
     "output_type": "stream",
     "text": [
      "John scored 95 marks\n"
     ]
    }
   ],
   "source": [
    "#34\n",
    "print( \"{} scored {} marks\".format(\"John\", 95))"
   ]
  },
  {
   "cell_type": "code",
   "execution_count": 80,
   "id": "c56508d8-0b9d-4eaf-8ffe-14680d2884f3",
   "metadata": {},
   "outputs": [
    {
     "name": "stdout",
     "output_type": "stream",
     "text": [
      "Bob is 30 years old\n"
     ]
    }
   ],
   "source": [
    "#35\n",
    "print(\"{} is {} years old\".format(\"Bob\",30))"
   ]
  },
  {
   "cell_type": "code",
   "execution_count": 81,
   "id": "27fbbfe2-47b7-46a9-8d0d-869055512044",
   "metadata": {},
   "outputs": [
    {
     "name": "stdout",
     "output_type": "stream",
     "text": [
      "2+3=5\n"
     ]
    }
   ],
   "source": [
    "#36\n",
    "print(\"{}+{}={}\".format(2, 3, 5))"
   ]
  },
  {
   "cell_type": "code",
   "execution_count": 82,
   "id": "8b7e5183-0f03-48a9-aeb0-bacb062950bc",
   "metadata": {},
   "outputs": [
    {
     "data": {
      "text/plain": [
       "['apple', 'banana', 'grape']"
      ]
     },
     "execution_count": 82,
     "metadata": {},
     "output_type": "execute_result"
    }
   ],
   "source": [
    "#37\n",
    "x= \"apple,banana,grape\"\n",
    "x.split(\",\")"
   ]
  },
  {
   "cell_type": "code",
   "execution_count": 83,
   "id": "b5be053d-8a49-42c4-bc59-9572501de2e8",
   "metadata": {},
   "outputs": [
    {
     "data": {
      "text/plain": [
       "['one', 'two', 'three']"
      ]
     },
     "execution_count": 83,
     "metadata": {},
     "output_type": "execute_result"
    }
   ],
   "source": [
    "#38\n",
    "x=\"one two three\"\n",
    "x.split()"
   ]
  },
  {
   "cell_type": "code",
   "execution_count": 84,
   "id": "dd55d0d1-2380-4fe4-bbfb-58a84a059680",
   "metadata": {},
   "outputs": [
    {
     "data": {
      "text/plain": [
       "['2025', '05', '16']"
      ]
     },
     "execution_count": 84,
     "metadata": {},
     "output_type": "execute_result"
    }
   ],
   "source": [
    "#39\n",
    "x=\"2025-05-16\"\n",
    "x.split(\"-\")"
   ]
  },
  {
   "cell_type": "code",
   "execution_count": 85,
   "id": "0781d9f7-da8d-4f1d-91aa-78018eabfe07",
   "metadata": {},
   "outputs": [
    {
     "data": {
      "text/plain": [
       "['hello']"
      ]
     },
     "execution_count": 85,
     "metadata": {},
     "output_type": "execute_result"
    }
   ],
   "source": [
    "#40\n",
    "x=\"hello\"\n",
    "x.split(\" \")"
   ]
  },
  {
   "cell_type": "code",
   "execution_count": 89,
   "id": "638cef09-ebef-4812-a2ec-cdf2abb644c9",
   "metadata": {},
   "outputs": [
    {
     "data": {
      "text/plain": [
       "'PYTHON'"
      ]
     },
     "execution_count": 89,
     "metadata": {},
     "output_type": "execute_result"
    }
   ],
   "source": [
    "#41\n",
    "x=\"python\"\n",
    "x.upper().strip(\"\")"
   ]
  },
  {
   "cell_type": "code",
   "execution_count": 91,
   "id": "7c62e2c7-cb1c-437c-bb66-9491473dff32",
   "metadata": {},
   "outputs": [
    {
     "name": "stdout",
     "output_type": "stream",
     "text": [
      "Score:100\n"
     ]
    }
   ],
   "source": [
    "#42\n",
    "print(\"{}:{}\".format(\"Score\",100))"
   ]
  },
  {
   "cell_type": "code",
   "execution_count": 93,
   "id": "1d1ce045-da84-4004-ba73-23aeabef43d8",
   "metadata": {},
   "outputs": [
    {
     "data": {
      "text/plain": [
       "'Python Is Fun'"
      ]
     },
     "execution_count": 93,
     "metadata": {},
     "output_type": "execute_result"
    }
   ],
   "source": [
    "#43\n",
    "x=\"python is fun\"\n",
    "x.title()"
   ]
  },
  {
   "cell_type": "code",
   "execution_count": 94,
   "id": "5a488007-f414-4890-9b41-28c55a4aa302",
   "metadata": {},
   "outputs": [
    {
     "data": {
      "text/plain": [
       "'he**o wor*d'"
      ]
     },
     "execution_count": 94,
     "metadata": {},
     "output_type": "execute_result"
    }
   ],
   "source": [
    "#44\n",
    "x=\"hello world\"\n",
    "x.replace('l','*')"
   ]
  },
  {
   "cell_type": "code",
   "execution_count": 97,
   "id": "bf6c9f49-39c3-4d2f-864a-fae96e7de20f",
   "metadata": {},
   "outputs": [
    {
     "name": "stdout",
     "output_type": "stream",
     "text": [
      "World\n"
     ]
    }
   ],
   "source": [
    "#45\n",
    "#How do you get just the word \"World\" from \"Hello World\"?\n",
    "x=\"Hello World\"\n",
    "x1=x.split(\" \")\n",
    "print(x1[1])"
   ]
  },
  {
   "cell_type": "code",
   "execution_count": null,
   "id": "e9110293-1e98-44fc-bc7b-e1693ab43691",
   "metadata": {},
   "outputs": [],
   "source": []
  }
 ],
 "metadata": {
  "kernelspec": {
   "display_name": "Python [conda env:base] *",
   "language": "python",
   "name": "conda-base-py"
  },
  "language_info": {
   "codemirror_mode": {
    "name": "ipython",
    "version": 3
   },
   "file_extension": ".py",
   "mimetype": "text/x-python",
   "name": "python",
   "nbconvert_exporter": "python",
   "pygments_lexer": "ipython3",
   "version": "3.13.5"
  }
 },
 "nbformat": 4,
 "nbformat_minor": 5
}
